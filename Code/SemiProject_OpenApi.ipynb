{
 "cells": [
  {
   "cell_type": "markdown",
   "id": "c0a5bf46",
   "metadata": {},
   "source": [
    "# 네이버 OpenApi를 이용한 네이버뉴스 크롤링"
   ]
  },
  {
   "cell_type": "code",
   "execution_count": null,
   "id": "c54d188c",
   "metadata": {},
   "outputs": [],
   "source": [
    "# 필요한 라이브러리 불러오기\n",
    "\n",
    "import numpy as np    # 행렬 연산을 위한\n",
    "import requests       # HTTP 호출\n",
    "import nltk           # 자연어처리 라이브러리\n",
    "from konlpy.tag import Okt; okt = Okt() # 한국어 자연어 처리(품사분석)\n",
    "import matplotlib.pyplot as plt # 그래프\n",
    "%matplotlib inline\n",
    "from wordcloud import WordCloud, STOPWORDS  # 워드크라우드\n",
    "from PIL import Image    # 이미지 처리"
   ]
  },
  {
   "cell_type": "code",
   "execution_count": null,
   "id": "675ad1ac",
   "metadata": {},
   "outputs": [],
   "source": [
    "# 네이버 뉴스 검색 api를 사용하여 최신기사 크롤링\n",
    "# 검색위치,출력 건수 정해져 있어 과거의 기사를 가져올수 없는 단점\n",
    "\n",
    "# 네이버 애플리케이션의 client_id와 client_secret 키 설정\n",
    "headers = {\n",
    "    'X-Naver-Client-Id' : '자신의 Client ID 입력',\n",
    "    'X-Naver-Client-Secret' : '자신의 Client Secret 입력'\n",
    "}\n",
    "\n",
    "# 뉴스 검색 요청 파라미터 설정\n",
    "query = '대한항공'    # 검색어\n",
    "display = 1           # 검색 결과 출력 건수(10~100)\n",
    "params = {\n",
    "    'query' : query,\n",
    "    'display' : display,    \n",
    "    'start' : 1,       # 검색 시작 위치(1~1000)\n",
    "    'sort' : 'sim',    # sim(유사도순), date(날짜순)\n",
    "}\n",
    "\n",
    "# 뉴스 검색 URL과 요청 파라미터\n",
    "naver_news_url = 'https://openapi.naver.com/v1/search/news.json'\n",
    "\n",
    "# 뉴스 검색 요청\n",
    "res = requests.get(naver_news_url, headers=headers, params=params)\n",
    "if res.status_code == 200:\n",
    "    # 뉴스 검색 결과 확인\n",
    "    news = res.json().get('items')\n",
    "    #print(news)"
   ]
  },
  {
   "cell_type": "code",
   "execution_count": null,
   "id": "c841943e",
   "metadata": {},
   "outputs": [],
   "source": [
    "# 기사별로 필요한 부분 가져오기\n",
    "# 네이버개발자 Documnet를 참고하여 필요한 출력결과의 필드값을 알아야함\n",
    "\n",
    "gather = []    # 필요한 내용을 담을 리스트\n",
    "for i in range(display):\n",
    "    cont = news[i].get('title') + news[i].get('description')    # 제목, 내용요약만 가져옴\n",
    "    cont = cont.replace('<b>', '').replace('</b>', '').replace('...','')    # HTML태그 제거\n",
    "    gather.append(cont)\n",
    "#print(gather)    # 결과 확인"
   ]
  },
  {
   "cell_type": "markdown",
   "id": "e9332b93",
   "metadata": {},
   "source": [
    "# 크롤링한 데이터 자연어 처리"
   ]
  },
  {
   "cell_type": "code",
   "execution_count": null,
   "id": "ffa577d1",
   "metadata": {},
   "outputs": [],
   "source": [
    "# 크롤링한 기사들을 Okt를 사용하여 품사분석하고 필요없는 품사 제거\n",
    "\n",
    "results = []    # 최종 결과물을 담을 리스트\n",
    "for line in gather:\n",
    "    intm = okt.pos(line, norm=True, stem=True)    # Okt를 사용해 한국어 형태소 분석(norm:정규화, stem:어간추출)\n",
    "    \n",
    "    r = []    # 필요없는 품사를 제외한 형태소들을 담을 리스트\n",
    "    for word in intm:\n",
    "        if not word[1] in ['Puctuation', 'Josa', 'Foreign', 'Number', 'Verb']:    # 개인적으로 판단하여 제거하자\n",
    "            r.append(word[0])                                            # ('단어','품사')형태라 word[0],word[1]\n",
    "    \n",
    "    r1 = (' '.join(r)).strip()    # 필요한 형태소들만 다시 합쳐 line화(문장) 만듬\n",
    "    results.append(r1)\n",
    "\n",
    "#print(results)    # 확인용 출력  "
   ]
  },
  {
   "cell_type": "code",
   "execution_count": null,
   "id": "ad823be1",
   "metadata": {},
   "outputs": [],
   "source": [
    "# 리스트에 담겨있는 문장들을 하나의 텍스트로 만듬\n",
    "\n",
    "collect_text = ''\n",
    "\n",
    "for each_line in results:\n",
    "    collect_text = collect_text + each_line + '\\n'\n",
    "    \n",
    "#print(collect_text) # 확인용 출력"
   ]
  },
  {
   "cell_type": "code",
   "execution_count": null,
   "id": "c0353dd6",
   "metadata": {
    "scrolled": true
   },
   "outputs": [],
   "source": [
    "# 하나의 텍스트를 형태소별로 나누고 불용어를 지정하여 걸러내기\n",
    "\n",
    "tokens_ko = okt.morphs(collect_text)    # 형태소별로 나누기\n",
    "\n",
    "stop_words = ['.',',','\\n','…','(',')','..','개','변','약','...',\"'\",'\"']    # 불용어 지정하기\n",
    "\n",
    "tokens_ko = [each_word for each_word in tokens_ko\n",
    "            if each_word not in stop_words]         # 불용어 걸러내기\n",
    "\n",
    "#tokens_ko     # 결과물 확인하면서 불용어 추가할것"
   ]
  },
  {
   "cell_type": "markdown",
   "id": "33433c2b",
   "metadata": {},
   "source": [
    "# 자연어 처리를 통한 시각화"
   ]
  },
  {
   "cell_type": "code",
   "execution_count": null,
   "id": "5c9c9157",
   "metadata": {},
   "outputs": [],
   "source": [
    "# 자연어의 데이터 탐색을 쉽게해주는 nltk.Text\n",
    "# nltk.Text를 이용해 그래프를 그리거나 워드크라우드를 만들 수 있음\n",
    "\n",
    "ko = nltk.Text(tokens_ko, name='네이버기사')\n",
    "ko.vocab().most_common(10)    # 빈도수가 가장 많은 순으로 정리(개수)"
   ]
  },
  {
   "cell_type": "code",
   "execution_count": null,
   "id": "1a71105c",
   "metadata": {},
   "outputs": [],
   "source": [
    "# Matplotlib 그래프에 한글이 문제없이 표기되도록 함\n",
    "\n",
    "import platform\n",
    "\n",
    "from matplotlib import font_manager, rc\n",
    "plt.rcParams['axes.unicode_minus'] = False\n",
    "\n",
    "if platform.system() == 'Darwin':\n",
    "    rc('font', family='AppleGothic')\n",
    "elif platform.system() == 'Windows':\n",
    "    path = 'c:/Windows/Fonts/malgun.ttf'\n",
    "    font_name = font_manager.FontProperties(fname=path).get_name()\n",
    "    rc('font', family=font_name)\n",
    "else:\n",
    "    print('Unkown system... sorry~~~~')"
   ]
  },
  {
   "cell_type": "code",
   "execution_count": null,
   "id": "49b7f138",
   "metadata": {},
   "outputs": [],
   "source": [
    "# 빈도수를 y축으로 하는 그래프를 그림\n",
    "\n",
    "plt.figure(figsize=(15,6))\n",
    "ko.plot(10)                # (보여줄 단어 개수)\n",
    "plt.show()"
   ]
  },
  {
   "cell_type": "markdown",
   "id": "158fc05c",
   "metadata": {},
   "source": [
    "# 이미지를 이용해 워드크라우드 만들기"
   ]
  },
  {
   "cell_type": "code",
   "execution_count": null,
   "id": "f8c9361e",
   "metadata": {},
   "outputs": [],
   "source": [
    "# 단어의 빈도수를 보여주는 워드크라우드 만들기\n",
    "\n",
    "data = ko.vocab().most_common(50)    # 빈도수 순으로 최대 50개의 단어를 추려냄\n",
    "\n",
    "# 딕셔너리화 시킨 후 워드크라우드 만들기\n",
    "wordcloud = WordCloud(font_path=path,\n",
    "                     relative_scaling=0.2,\n",
    "                     background_color='white').generate_from_frequencies(dict(data))\n",
    "\n",
    "# 워드크라우드를 그리기(Matplotlib)\n",
    "plt.figure(figsize=(16,8))\n",
    "plt.imshow(wordcloud)\n",
    "plt.axis('off')\n",
    "plt.show()"
   ]
  },
  {
   "cell_type": "code",
   "execution_count": null,
   "id": "53ab101a",
   "metadata": {},
   "outputs": [],
   "source": [
    "# 워드크라우드를 넣을 이미지 가져오기\n",
    "\n",
    "mask = np.array(Image.open('./data/koreanair_image.jpg'))\n",
    "\n",
    "# 마스킹할 이미지의 색상을 반영\n",
    "from wordcloud import ImageColorGenerator\n",
    "\n",
    "image_colors = ImageColorGenerator(mask)"
   ]
  },
  {
   "cell_type": "code",
   "execution_count": null,
   "id": "ca63dcc8",
   "metadata": {},
   "outputs": [],
   "source": [
    "# 이미지로 마스킹한 워드크라우드 만들기\n",
    "\n",
    "wordcloud2 = WordCloud(font_path=path,\n",
    "                     relative_scaling=0.2, mask=mask,\n",
    "                     background_color='white').generate_from_frequencies(dict(data))\n",
    "\n",
    "plt.figure(figsize=(12,12))\n",
    "plt.imshow(wordcloud2.recolor(color_func=image_colors), interpolation='bilinear')\n",
    "plt.axis('off')\n",
    "plt.show()"
   ]
  },
  {
   "cell_type": "code",
   "execution_count": null,
   "id": "591b7cbd",
   "metadata": {},
   "outputs": [],
   "source": []
  }
 ],
 "metadata": {
  "kernelspec": {
   "display_name": "Python 3",
   "language": "python",
   "name": "python3"
  },
  "language_info": {
   "codemirror_mode": {
    "name": "ipython",
    "version": 3
   },
   "file_extension": ".py",
   "mimetype": "text/x-python",
   "name": "python",
   "nbconvert_exporter": "python",
   "pygments_lexer": "ipython3",
   "version": "3.8.8"
  }
 },
 "nbformat": 4,
 "nbformat_minor": 5
}
