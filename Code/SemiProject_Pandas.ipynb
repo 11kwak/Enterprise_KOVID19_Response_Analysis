{
 "cells": [
  {
   "cell_type": "markdown",
   "id": "198a23cf",
   "metadata": {},
   "source": [
    "# 항공사별 여객수 추이"
   ]
  },
  {
   "cell_type": "code",
   "execution_count": 28,
   "id": "ad11e54b",
   "metadata": {},
   "outputs": [],
   "source": [
    "# 필요한 라이브러리 불러오기\n",
    "\n",
    "import pandas as pd    # 데이터프레임\n",
    "import numpy as np\n",
    "import matplotlib.pyplot as plt # 그래프\n",
    "%matplotlib inline"
   ]
  },
  {
   "cell_type": "code",
   "execution_count": 3,
   "id": "8cfd623d",
   "metadata": {},
   "outputs": [
    {
     "data": {
      "text/html": [
       "<div>\n",
       "<style scoped>\n",
       "    .dataframe tbody tr th:only-of-type {\n",
       "        vertical-align: middle;\n",
       "    }\n",
       "\n",
       "    .dataframe tbody tr th {\n",
       "        vertical-align: top;\n",
       "    }\n",
       "\n",
       "    .dataframe thead th {\n",
       "        text-align: right;\n",
       "    }\n",
       "</style>\n",
       "<table border=\"1\" class=\"dataframe\">\n",
       "  <thead>\n",
       "    <tr style=\"text-align: right;\">\n",
       "      <th></th>\n",
       "      <th>항공사명</th>\n",
       "      <th>2020.1</th>\n",
       "      <th>2020.2</th>\n",
       "      <th>2020.3</th>\n",
       "      <th>2020.4</th>\n",
       "      <th>2021.1</th>\n",
       "      <th>2021.2</th>\n",
       "    </tr>\n",
       "  </thead>\n",
       "  <tbody>\n",
       "    <tr>\n",
       "      <th>0</th>\n",
       "      <td>대한항공(KAL)</td>\n",
       "      <td>4,117,632</td>\n",
       "      <td>1,072,146</td>\n",
       "      <td>1,210,524</td>\n",
       "      <td>1,292,093</td>\n",
       "      <td>1,025,016</td>\n",
       "      <td>1,457,713</td>\n",
       "    </tr>\n",
       "    <tr>\n",
       "      <th>1</th>\n",
       "      <td>아시아나항공(AAR)</td>\n",
       "      <td>3,052,214</td>\n",
       "      <td>1,152,063</td>\n",
       "      <td>1,287,615</td>\n",
       "      <td>1,209,143</td>\n",
       "      <td>930,232</td>\n",
       "      <td>1,441,393</td>\n",
       "    </tr>\n",
       "    <tr>\n",
       "      <th>2</th>\n",
       "      <td>제주항공(JJA)</td>\n",
       "      <td>1,913,998</td>\n",
       "      <td>921,305</td>\n",
       "      <td>1,283,825</td>\n",
       "      <td>1,369,584</td>\n",
       "      <td>1,217,078</td>\n",
       "      <td>1,916,393</td>\n",
       "    </tr>\n",
       "    <tr>\n",
       "      <th>3</th>\n",
       "      <td>진에어(JNA)</td>\n",
       "      <td>1,098,885</td>\n",
       "      <td>657,600</td>\n",
       "      <td>1,274,078</td>\n",
       "      <td>1,290,888</td>\n",
       "      <td>1,218,149</td>\n",
       "      <td>1,578,458</td>\n",
       "    </tr>\n",
       "    <tr>\n",
       "      <th>4</th>\n",
       "      <td>에어부산(ABL)</td>\n",
       "      <td>1,078,318</td>\n",
       "      <td>752,033</td>\n",
       "      <td>963,269</td>\n",
       "      <td>1,007,979</td>\n",
       "      <td>971,484</td>\n",
       "      <td>1,265,077</td>\n",
       "    </tr>\n",
       "  </tbody>\n",
       "</table>\n",
       "</div>"
      ],
      "text/plain": [
       "          항공사명     2020.1     2020.2     2020.3     2020.4     2021.1  \\\n",
       "0    대한항공(KAL)  4,117,632  1,072,146  1,210,524  1,292,093  1,025,016   \n",
       "1  아시아나항공(AAR)  3,052,214  1,152,063  1,287,615  1,209,143    930,232   \n",
       "2    제주항공(JJA)  1,913,998    921,305  1,283,825  1,369,584  1,217,078   \n",
       "3     진에어(JNA)  1,098,885    657,600  1,274,078  1,290,888  1,218,149   \n",
       "4    에어부산(ABL)  1,078,318    752,033    963,269  1,007,979    971,484   \n",
       "\n",
       "      2021.2  \n",
       "0  1,457,713  \n",
       "1  1,441,393  \n",
       "2  1,916,393  \n",
       "3  1,578,458  \n",
       "4  1,265,077  "
      ]
     },
     "execution_count": 3,
     "metadata": {},
     "output_type": "execute_result"
    }
   ],
   "source": [
    "# Pandas를 이용해 csv파일 읽어와 데이터프레임화하기\n",
    "# 1행부터 5행가져오고 NaN가 있는 열 제거\n",
    "\n",
    "Pas_Airline = pd.read_csv('./data/Performance_Airline.csv', encoding='utf-8',\n",
    "                         header=1, nrows=5)\n",
    "Pas_Airline.dropna(axis=1, inplace=True)\n",
    "Pas_Airline"
   ]
  },
  {
   "cell_type": "code",
   "execution_count": 4,
   "id": "8a237f46",
   "metadata": {
    "scrolled": true
   },
   "outputs": [
    {
     "data": {
      "text/html": [
       "<div>\n",
       "<style scoped>\n",
       "    .dataframe tbody tr th:only-of-type {\n",
       "        vertical-align: middle;\n",
       "    }\n",
       "\n",
       "    .dataframe tbody tr th {\n",
       "        vertical-align: top;\n",
       "    }\n",
       "\n",
       "    .dataframe thead th {\n",
       "        text-align: right;\n",
       "    }\n",
       "</style>\n",
       "<table border=\"1\" class=\"dataframe\">\n",
       "  <thead>\n",
       "    <tr style=\"text-align: right;\">\n",
       "      <th></th>\n",
       "      <th>2020.1</th>\n",
       "      <th>2020.2</th>\n",
       "      <th>2020.3</th>\n",
       "      <th>2020.4</th>\n",
       "      <th>2021.1</th>\n",
       "      <th>2021.2</th>\n",
       "    </tr>\n",
       "    <tr>\n",
       "      <th>항공사명</th>\n",
       "      <th></th>\n",
       "      <th></th>\n",
       "      <th></th>\n",
       "      <th></th>\n",
       "      <th></th>\n",
       "      <th></th>\n",
       "    </tr>\n",
       "  </thead>\n",
       "  <tbody>\n",
       "    <tr>\n",
       "      <th>대한항공(KAL)</th>\n",
       "      <td>4117632</td>\n",
       "      <td>1072146</td>\n",
       "      <td>1210524</td>\n",
       "      <td>1292093</td>\n",
       "      <td>1025016</td>\n",
       "      <td>1457713</td>\n",
       "    </tr>\n",
       "    <tr>\n",
       "      <th>아시아나항공(AAR)</th>\n",
       "      <td>3052214</td>\n",
       "      <td>1152063</td>\n",
       "      <td>1287615</td>\n",
       "      <td>1209143</td>\n",
       "      <td>930232</td>\n",
       "      <td>1441393</td>\n",
       "    </tr>\n",
       "    <tr>\n",
       "      <th>제주항공(JJA)</th>\n",
       "      <td>1913998</td>\n",
       "      <td>921305</td>\n",
       "      <td>1283825</td>\n",
       "      <td>1369584</td>\n",
       "      <td>1217078</td>\n",
       "      <td>1916393</td>\n",
       "    </tr>\n",
       "    <tr>\n",
       "      <th>진에어(JNA)</th>\n",
       "      <td>1098885</td>\n",
       "      <td>657600</td>\n",
       "      <td>1274078</td>\n",
       "      <td>1290888</td>\n",
       "      <td>1218149</td>\n",
       "      <td>1578458</td>\n",
       "    </tr>\n",
       "    <tr>\n",
       "      <th>에어부산(ABL)</th>\n",
       "      <td>1078318</td>\n",
       "      <td>752033</td>\n",
       "      <td>963269</td>\n",
       "      <td>1007979</td>\n",
       "      <td>971484</td>\n",
       "      <td>1265077</td>\n",
       "    </tr>\n",
       "  </tbody>\n",
       "</table>\n",
       "</div>"
      ],
      "text/plain": [
       "              2020.1   2020.2   2020.3   2020.4   2021.1   2021.2\n",
       "항공사명                                                             \n",
       "대한항공(KAL)    4117632  1072146  1210524  1292093  1025016  1457713\n",
       "아시아나항공(AAR)  3052214  1152063  1287615  1209143   930232  1441393\n",
       "제주항공(JJA)    1913998   921305  1283825  1369584  1217078  1916393\n",
       "진에어(JNA)     1098885   657600  1274078  1290888  1218149  1578458\n",
       "에어부산(ABL)    1078318   752033   963269  1007979   971484  1265077"
      ]
     },
     "execution_count": 4,
     "metadata": {},
     "output_type": "execute_result"
    }
   ],
   "source": [
    "# 1열 인덱스화, Value 숫자화 하기(to_nuemeric)\n",
    "\n",
    "Pas_Airline.set_index('항공사명', inplace=True)\n",
    "for col in Pas_Airline.columns:\n",
    "    Pas_Airline[col] =  Pas_Airline[col].str.replace(',','')\n",
    "    Pas_Airline[col] = pd.to_numeric(Pas_Airline[col])\n",
    "Pas_Airline    "
   ]
  },
  {
   "cell_type": "code",
   "execution_count": 5,
   "id": "331de51d",
   "metadata": {},
   "outputs": [],
   "source": [
    "# Matplotlib 그래프에 한글이 문제없이 표기되도록 하는 부분\n",
    "\n",
    "import platform\n",
    "\n",
    "from matplotlib import font_manager, rc\n",
    "plt.rcParams['axes.unicode_minus'] = False\n",
    "\n",
    "if platform.system() == 'Darwin':\n",
    "    rc('font', family='AppleGothic')\n",
    "elif platform.system() == 'Windows':\n",
    "    path = 'c:/Windows/Fonts/malgun.ttf'\n",
    "    font_name = font_manager.FontProperties(fname=path).get_name()\n",
    "    rc('font', family=font_name)\n",
    "else:\n",
    "    print('Unkown system... sorry~~~~')"
   ]
  },
  {
   "cell_type": "code",
   "execution_count": 6,
   "id": "93bc7801",
   "metadata": {},
   "outputs": [
    {
     "data": {
      "image/png": "[encoded data removed]",
      "text/plain": [
       "<Figure size 432x288 with 1 Axes>"
      ]
     },
     "metadata": {
      "needs_background": "light"
     },
     "output_type": "display_data"
    }
   ],
   "source": [
    "# 전치행렬해서 Matplotlib을 이용한 그래프 그리기\n",
    "\n",
    "pas = Pas_Airline.T    # 행렬전치\n",
    "pas.plot()\n",
    "plt.title('각 항공사 분기별 여객수 추이')\n",
    "plt.xlabel('시간')\n",
    "plt.ylabel('여객수(백만명)')\n",
    "plt.show()"
   ]
  },
  {
   "cell_type": "markdown",
   "id": "f0491e08",
   "metadata": {},
   "source": [
    "# 항공사별 화물량 추이"
   ]
  },
  {
   "cell_type": "code",
   "execution_count": 10,
   "id": "61a1a922",
   "metadata": {},
   "outputs": [
    {
     "data": {
      "text/html": [
       "<div>\n",
       "<style scoped>\n",
       "    .dataframe tbody tr th:only-of-type {\n",
       "        vertical-align: middle;\n",
       "    }\n",
       "\n",
       "    .dataframe tbody tr th {\n",
       "        vertical-align: top;\n",
       "    }\n",
       "\n",
       "    .dataframe thead th {\n",
       "        text-align: right;\n",
       "    }\n",
       "</style>\n",
       "<table border=\"1\" class=\"dataframe\">\n",
       "  <thead>\n",
       "    <tr style=\"text-align: right;\">\n",
       "      <th></th>\n",
       "      <th>항공사명</th>\n",
       "      <th>2020.1</th>\n",
       "      <th>2020.2</th>\n",
       "      <th>2020.3</th>\n",
       "      <th>2020.4</th>\n",
       "      <th>2021.1</th>\n",
       "      <th>2021.2</th>\n",
       "    </tr>\n",
       "  </thead>\n",
       "  <tbody>\n",
       "    <tr>\n",
       "      <th>0</th>\n",
       "      <td>대한항공(KAL)</td>\n",
       "      <td>366,820</td>\n",
       "      <td>330,772</td>\n",
       "      <td>364,797</td>\n",
       "      <td>389,609</td>\n",
       "      <td>385,391</td>\n",
       "      <td>417,759</td>\n",
       "    </tr>\n",
       "    <tr>\n",
       "      <th>1</th>\n",
       "      <td>아시아나항공(AAR)</td>\n",
       "      <td>203,737</td>\n",
       "      <td>173,236</td>\n",
       "      <td>183,526</td>\n",
       "      <td>202,207</td>\n",
       "      <td>182,433</td>\n",
       "      <td>191,955</td>\n",
       "    </tr>\n",
       "    <tr>\n",
       "      <th>2</th>\n",
       "      <td>제주항공(JJA)</td>\n",
       "      <td>15,320</td>\n",
       "      <td>3,629</td>\n",
       "      <td>5,551</td>\n",
       "      <td>5,882</td>\n",
       "      <td>4,560</td>\n",
       "      <td>7,696</td>\n",
       "    </tr>\n",
       "    <tr>\n",
       "      <th>3</th>\n",
       "      <td>진에어(JNA)</td>\n",
       "      <td>10,852</td>\n",
       "      <td>3,866</td>\n",
       "      <td>7,510</td>\n",
       "      <td>7,678</td>\n",
       "      <td>7,588</td>\n",
       "      <td>6,417</td>\n",
       "    </tr>\n",
       "    <tr>\n",
       "      <th>4</th>\n",
       "      <td>에어부산(ABL)</td>\n",
       "      <td>8,012</td>\n",
       "      <td>3,479</td>\n",
       "      <td>4,611</td>\n",
       "      <td>5,253</td>\n",
       "      <td>5,844</td>\n",
       "      <td>5,160</td>\n",
       "    </tr>\n",
       "  </tbody>\n",
       "</table>\n",
       "</div>"
      ],
      "text/plain": [
       "          항공사명   2020.1   2020.2   2020.3   2020.4   2021.1   2021.2\n",
       "0    대한항공(KAL)  366,820  330,772  364,797  389,609  385,391  417,759\n",
       "1  아시아나항공(AAR)  203,737  173,236  183,526  202,207  182,433  191,955\n",
       "2    제주항공(JJA)   15,320    3,629    5,551    5,882    4,560    7,696\n",
       "3     진에어(JNA)   10,852    3,866    7,510    7,678    7,588    6,417\n",
       "4    에어부산(ABL)    8,012    3,479    4,611    5,253    5,844    5,160"
      ]
     },
     "execution_count": 10,
     "metadata": {},
     "output_type": "execute_result"
    }
   ],
   "source": [
    "# Pandas를 이용해 csv파일 읽어와 데이터프레임화하기\n",
    "# 10행부터 5행가져오고 NaN가 있는 열 제거\n",
    "\n",
    "Freight_Airline = pd.read_csv('./data/Performance_Airline.csv', encoding='utf-8',\n",
    "                         skiprows=9, nrows=5)\n",
    "Freight_Airline.dropna(axis=1, inplace=True)\n",
    "Freight_Airline"
   ]
  },
  {
   "cell_type": "code",
   "execution_count": 11,
   "id": "f171cb61",
   "metadata": {},
   "outputs": [
    {
     "data": {
      "text/html": [
       "<div>\n",
       "<style scoped>\n",
       "    .dataframe tbody tr th:only-of-type {\n",
       "        vertical-align: middle;\n",
       "    }\n",
       "\n",
       "    .dataframe tbody tr th {\n",
       "        vertical-align: top;\n",
       "    }\n",
       "\n",
       "    .dataframe thead th {\n",
       "        text-align: right;\n",
       "    }\n",
       "</style>\n",
       "<table border=\"1\" class=\"dataframe\">\n",
       "  <thead>\n",
       "    <tr style=\"text-align: right;\">\n",
       "      <th></th>\n",
       "      <th>2020.1</th>\n",
       "      <th>2020.2</th>\n",
       "      <th>2020.3</th>\n",
       "      <th>2020.4</th>\n",
       "      <th>2021.1</th>\n",
       "      <th>2021.2</th>\n",
       "    </tr>\n",
       "    <tr>\n",
       "      <th>항공사명</th>\n",
       "      <th></th>\n",
       "      <th></th>\n",
       "      <th></th>\n",
       "      <th></th>\n",
       "      <th></th>\n",
       "      <th></th>\n",
       "    </tr>\n",
       "  </thead>\n",
       "  <tbody>\n",
       "    <tr>\n",
       "      <th>대한항공(KAL)</th>\n",
       "      <td>366820</td>\n",
       "      <td>330772</td>\n",
       "      <td>364797</td>\n",
       "      <td>389609</td>\n",
       "      <td>385391</td>\n",
       "      <td>417759</td>\n",
       "    </tr>\n",
       "    <tr>\n",
       "      <th>아시아나항공(AAR)</th>\n",
       "      <td>203737</td>\n",
       "      <td>173236</td>\n",
       "      <td>183526</td>\n",
       "      <td>202207</td>\n",
       "      <td>182433</td>\n",
       "      <td>191955</td>\n",
       "    </tr>\n",
       "    <tr>\n",
       "      <th>제주항공(JJA)</th>\n",
       "      <td>15320</td>\n",
       "      <td>3629</td>\n",
       "      <td>5551</td>\n",
       "      <td>5882</td>\n",
       "      <td>4560</td>\n",
       "      <td>7696</td>\n",
       "    </tr>\n",
       "    <tr>\n",
       "      <th>진에어(JNA)</th>\n",
       "      <td>10852</td>\n",
       "      <td>3866</td>\n",
       "      <td>7510</td>\n",
       "      <td>7678</td>\n",
       "      <td>7588</td>\n",
       "      <td>6417</td>\n",
       "    </tr>\n",
       "    <tr>\n",
       "      <th>에어부산(ABL)</th>\n",
       "      <td>8012</td>\n",
       "      <td>3479</td>\n",
       "      <td>4611</td>\n",
       "      <td>5253</td>\n",
       "      <td>5844</td>\n",
       "      <td>5160</td>\n",
       "    </tr>\n",
       "  </tbody>\n",
       "</table>\n",
       "</div>"
      ],
      "text/plain": [
       "             2020.1  2020.2  2020.3  2020.4  2021.1  2021.2\n",
       "항공사명                                                       \n",
       "대한항공(KAL)    366820  330772  364797  389609  385391  417759\n",
       "아시아나항공(AAR)  203737  173236  183526  202207  182433  191955\n",
       "제주항공(JJA)     15320    3629    5551    5882    4560    7696\n",
       "진에어(JNA)      10852    3866    7510    7678    7588    6417\n",
       "에어부산(ABL)      8012    3479    4611    5253    5844    5160"
      ]
     },
     "execution_count": 11,
     "metadata": {},
     "output_type": "execute_result"
    }
   ],
   "source": [
    "# 1열 인덱스화, Value 숫자화 하기(to_nuemeric)\n",
    "\n",
    "Freight_Airline.set_index('항공사명', inplace=True)\n",
    "for col in Freight_Airline.columns:\n",
    "    Freight_Airline[col] =  Freight_Airline[col].str.replace(',','')\n",
    "    Freight_Airline[col] = pd.to_numeric(Freight_Airline[col])\n",
    "Freight_Airline"
   ]
  },
  {
   "cell_type": "code",
   "execution_count": 12,
   "id": "7a10d063",
   "metadata": {},
   "outputs": [
    {
     "data": {
      "image/png": "[encoded data removed]",
      "text/plain": [
       "<Figure size 432x288 with 1 Axes>"
      ]
     },
     "metadata": {
      "needs_background": "light"
     },
     "output_type": "display_data"
    }
   ],
   "source": [
    "# 전치행렬해서 Matplotlib을 이용한 그래프 그리기\n",
    "\n",
    "Freight_Airline.T.plot()\n",
    "plt.title('각 항공사 분기별 화물량 추이')\n",
    "plt.xlabel('시간')\n",
    "plt.ylabel('화물량(톤)')\n",
    "plt.show()"
   ]
  },
  {
   "cell_type": "markdown",
   "id": "f87821b5",
   "metadata": {},
   "source": [
    "# 항공사별 영업이익"
   ]
  },
  {
   "cell_type": "code",
   "execution_count": 13,
   "id": "c9d570d0",
   "metadata": {},
   "outputs": [
    {
     "data": {
      "text/html": [
       "<div>\n",
       "<style scoped>\n",
       "    .dataframe tbody tr th:only-of-type {\n",
       "        vertical-align: middle;\n",
       "    }\n",
       "\n",
       "    .dataframe tbody tr th {\n",
       "        vertical-align: top;\n",
       "    }\n",
       "\n",
       "    .dataframe thead th {\n",
       "        text-align: right;\n",
       "    }\n",
       "</style>\n",
       "<table border=\"1\" class=\"dataframe\">\n",
       "  <thead>\n",
       "    <tr style=\"text-align: right;\">\n",
       "      <th></th>\n",
       "      <th>항공사명</th>\n",
       "      <th>2020.1</th>\n",
       "      <th>2020.2</th>\n",
       "      <th>2020.3</th>\n",
       "      <th>2020.4</th>\n",
       "      <th>2021.1</th>\n",
       "    </tr>\n",
       "  </thead>\n",
       "  <tbody>\n",
       "    <tr>\n",
       "      <th>0</th>\n",
       "      <td>대한항공(KAL)</td>\n",
       "      <td>82,792</td>\n",
       "      <td>-55,407</td>\n",
       "      <td>-39,125</td>\n",
       "      <td>120,658</td>\n",
       "      <td>101,585</td>\n",
       "    </tr>\n",
       "    <tr>\n",
       "      <th>1</th>\n",
       "      <td>아시아나항공(AAR)</td>\n",
       "      <td>11,366</td>\n",
       "      <td>-6,565</td>\n",
       "      <td>1,402</td>\n",
       "      <td>2,561</td>\n",
       "      <td>549</td>\n",
       "    </tr>\n",
       "    <tr>\n",
       "      <th>2</th>\n",
       "      <td>제주항공(JJA)</td>\n",
       "      <td>-65,726</td>\n",
       "      <td>-85,419</td>\n",
       "      <td>-70,062</td>\n",
       "      <td>-114,609</td>\n",
       "      <td>-87,317</td>\n",
       "    </tr>\n",
       "    <tr>\n",
       "      <th>3</th>\n",
       "      <td>진에어(JNA)</td>\n",
       "      <td>-31,267</td>\n",
       "      <td>-59,612</td>\n",
       "      <td>-49,231</td>\n",
       "      <td>-44,600</td>\n",
       "      <td>-60,079</td>\n",
       "    </tr>\n",
       "    <tr>\n",
       "      <th>4</th>\n",
       "      <td>에어부산(ABL)</td>\n",
       "      <td>-38,512</td>\n",
       "      <td>-51,434</td>\n",
       "      <td>-42,437</td>\n",
       "      <td>-56,302</td>\n",
       "      <td>-47,227</td>\n",
       "    </tr>\n",
       "  </tbody>\n",
       "</table>\n",
       "</div>"
      ],
      "text/plain": [
       "          항공사명   2020.1   2020.2   2020.3    2020.4   2021.1\n",
       "0    대한항공(KAL)   82,792  -55,407  -39,125   120,658  101,585\n",
       "1  아시아나항공(AAR)   11,366   -6,565    1,402     2,561      549\n",
       "2    제주항공(JJA)  -65,726  -85,419  -70,062  -114,609  -87,317\n",
       "3     진에어(JNA)  -31,267  -59,612  -49,231   -44,600  -60,079\n",
       "4    에어부산(ABL)  -38,512  -51,434  -42,437   -56,302  -47,227"
      ]
     },
     "execution_count": 13,
     "metadata": {},
     "output_type": "execute_result"
    }
   ],
   "source": [
    "# Pandas를 이용해 csv파일 읽어와 데이터프레임화하기\n",
    "# 18행부터 5행가져오고 NaN가 있는 열 제거\n",
    "\n",
    "Profit_Airline = pd.read_csv('./data/Performance_Airline.csv', encoding='utf-8',\n",
    "                         skiprows=17, nrows=5)\n",
    "Profit_Airline.dropna(axis=1, inplace=True)\n",
    "Profit_Airline"
   ]
  },
  {
   "cell_type": "code",
   "execution_count": 14,
   "id": "c3953dc4",
   "metadata": {},
   "outputs": [
    {
     "data": {
      "text/html": [
       "<div>\n",
       "<style scoped>\n",
       "    .dataframe tbody tr th:only-of-type {\n",
       "        vertical-align: middle;\n",
       "    }\n",
       "\n",
       "    .dataframe tbody tr th {\n",
       "        vertical-align: top;\n",
       "    }\n",
       "\n",
       "    .dataframe thead th {\n",
       "        text-align: right;\n",
       "    }\n",
       "</style>\n",
       "<table border=\"1\" class=\"dataframe\">\n",
       "  <thead>\n",
       "    <tr style=\"text-align: right;\">\n",
       "      <th></th>\n",
       "      <th>2020.1</th>\n",
       "      <th>2020.2</th>\n",
       "      <th>2020.3</th>\n",
       "      <th>2020.4</th>\n",
       "      <th>2021.1</th>\n",
       "    </tr>\n",
       "    <tr>\n",
       "      <th>항공사명</th>\n",
       "      <th></th>\n",
       "      <th></th>\n",
       "      <th></th>\n",
       "      <th></th>\n",
       "      <th></th>\n",
       "    </tr>\n",
       "  </thead>\n",
       "  <tbody>\n",
       "    <tr>\n",
       "      <th>대한항공(KAL)</th>\n",
       "      <td>82792</td>\n",
       "      <td>-55407</td>\n",
       "      <td>-39125</td>\n",
       "      <td>120658</td>\n",
       "      <td>101585</td>\n",
       "    </tr>\n",
       "    <tr>\n",
       "      <th>아시아나항공(AAR)</th>\n",
       "      <td>11366</td>\n",
       "      <td>-6565</td>\n",
       "      <td>1402</td>\n",
       "      <td>2561</td>\n",
       "      <td>549</td>\n",
       "    </tr>\n",
       "    <tr>\n",
       "      <th>제주항공(JJA)</th>\n",
       "      <td>-65726</td>\n",
       "      <td>-85419</td>\n",
       "      <td>-70062</td>\n",
       "      <td>-114609</td>\n",
       "      <td>-87317</td>\n",
       "    </tr>\n",
       "    <tr>\n",
       "      <th>진에어(JNA)</th>\n",
       "      <td>-31267</td>\n",
       "      <td>-59612</td>\n",
       "      <td>-49231</td>\n",
       "      <td>-44600</td>\n",
       "      <td>-60079</td>\n",
       "    </tr>\n",
       "    <tr>\n",
       "      <th>에어부산(ABL)</th>\n",
       "      <td>-38512</td>\n",
       "      <td>-51434</td>\n",
       "      <td>-42437</td>\n",
       "      <td>-56302</td>\n",
       "      <td>-47227</td>\n",
       "    </tr>\n",
       "  </tbody>\n",
       "</table>\n",
       "</div>"
      ],
      "text/plain": [
       "             2020.1  2020.2  2020.3  2020.4  2021.1\n",
       "항공사명                                               \n",
       "대한항공(KAL)     82792  -55407  -39125  120658  101585\n",
       "아시아나항공(AAR)   11366   -6565    1402    2561     549\n",
       "제주항공(JJA)    -65726  -85419  -70062 -114609  -87317\n",
       "진에어(JNA)     -31267  -59612  -49231  -44600  -60079\n",
       "에어부산(ABL)    -38512  -51434  -42437  -56302  -47227"
      ]
     },
     "execution_count": 14,
     "metadata": {},
     "output_type": "execute_result"
    }
   ],
   "source": [
    "# 1열 인덱스화, Value 숫자화 하기(to_nuemeric)\n",
    "\n",
    "Profit_Airline.set_index('항공사명', inplace=True)\n",
    "for col in Profit_Airline.columns:\n",
    "    Profit_Airline[col] =  Profit_Airline[col].str.replace(',','')\n",
    "    Profit_Airline[col] = pd.to_numeric(Profit_Airline[col])\n",
    "Profit_Airline"
   ]
  },
  {
   "cell_type": "code",
   "execution_count": 15,
   "id": "0734d298",
   "metadata": {},
   "outputs": [
    {
     "data": {
      "image/png": "[encoded data removed]",
      "text/plain": [
       "<Figure size 432x288 with 1 Axes>"
      ]
     },
     "metadata": {
      "needs_background": "light"
     },
     "output_type": "display_data"
    }
   ],
   "source": [
    "# 전치행렬해서 Matplotlib을 이용한 그래프 그리기\n",
    "\n",
    "Profit_Airline.T.plot()\n",
    "plt.title('각 항공사 분기별 영업이익 추이')\n",
    "plt.xlabel('시간')\n",
    "plt.ylabel('영업이익(백만원)')\n",
    "plt.show()"
   ]
  },
  {
   "cell_type": "markdown",
   "id": "3549c5d5",
   "metadata": {},
   "source": [
    "# 월별 국내 숙박여행 횟수"
   ]
  },
  {
   "cell_type": "code",
   "execution_count": 21,
   "id": "d1a0bd2f",
   "metadata": {},
   "outputs": [
    {
     "data": {
      "text/html": [
       "<div>\n",
       "<style scoped>\n",
       "    .dataframe tbody tr th:only-of-type {\n",
       "        vertical-align: middle;\n",
       "    }\n",
       "\n",
       "    .dataframe tbody tr th {\n",
       "        vertical-align: top;\n",
       "    }\n",
       "\n",
       "    .dataframe thead th {\n",
       "        text-align: right;\n",
       "    }\n",
       "</style>\n",
       "<table border=\"1\" class=\"dataframe\">\n",
       "  <thead>\n",
       "    <tr style=\"text-align: right;\">\n",
       "      <th></th>\n",
       "      <th>월별 국내 숙박여행 횟수</th>\n",
       "      <th>Unnamed: 1</th>\n",
       "      <th>Unnamed: 2</th>\n",
       "      <th>Unnamed: 3</th>\n",
       "      <th>Unnamed: 4</th>\n",
       "      <th>Unnamed: 5</th>\n",
       "      <th>Unnamed: 6</th>\n",
       "      <th>Unnamed: 7</th>\n",
       "      <th>Unnamed: 8</th>\n",
       "      <th>Unnamed: 9</th>\n",
       "      <th>Unnamed: 10</th>\n",
       "      <th>Unnamed: 11</th>\n",
       "    </tr>\n",
       "  </thead>\n",
       "  <tbody>\n",
       "    <tr>\n",
       "      <th>0</th>\n",
       "      <td>16,787</td>\n",
       "      <td>5,144</td>\n",
       "      <td>3,005</td>\n",
       "      <td>4,384</td>\n",
       "      <td>6,676</td>\n",
       "      <td>6,607</td>\n",
       "      <td>9,579</td>\n",
       "      <td>9,483</td>\n",
       "      <td>7,373</td>\n",
       "      <td>8,091</td>\n",
       "      <td>5,543</td>\n",
       "      <td>5,777</td>\n",
       "    </tr>\n",
       "  </tbody>\n",
       "</table>\n",
       "</div>"
      ],
      "text/plain": [
       "  월별 국내 숙박여행 횟수 Unnamed: 1 Unnamed: 2 Unnamed: 3 Unnamed: 4 Unnamed: 5  \\\n",
       "0        16,787      5,144      3,005      4,384      6,676      6,607   \n",
       "\n",
       "  Unnamed: 6 Unnamed: 7 Unnamed: 8 Unnamed: 9 Unnamed: 10 Unnamed: 11  \n",
       "0      9,579      9,483      7,373      8,091       5,543       5,777  "
      ]
     },
     "execution_count": 21,
     "metadata": {},
     "output_type": "execute_result"
    }
   ],
   "source": [
    "# Pandas를 이용해 csv파일 읽어와 데이터프레임화하기\n",
    "# 25행부터 가져오고 NaN가 있는 행 제거\n",
    "\n",
    "K_tour = pd.read_csv('./data/Performance_Airline.csv', encoding='utf-8',\n",
    "                         skiprows=24)\n",
    "K_tour.dropna(axis=0, inplace=True)\n",
    "K_tour"
   ]
  },
  {
   "cell_type": "code",
   "execution_count": 22,
   "id": "61fdeb17",
   "metadata": {},
   "outputs": [
    {
     "data": {
      "text/html": [
       "<div>\n",
       "<style scoped>\n",
       "    .dataframe tbody tr th:only-of-type {\n",
       "        vertical-align: middle;\n",
       "    }\n",
       "\n",
       "    .dataframe tbody tr th {\n",
       "        vertical-align: top;\n",
       "    }\n",
       "\n",
       "    .dataframe thead th {\n",
       "        text-align: right;\n",
       "    }\n",
       "</style>\n",
       "<table border=\"1\" class=\"dataframe\">\n",
       "  <thead>\n",
       "    <tr style=\"text-align: right;\">\n",
       "      <th></th>\n",
       "      <th>2020.1</th>\n",
       "      <th>2020.2</th>\n",
       "      <th>2020.3</th>\n",
       "      <th>2020.4</th>\n",
       "      <th>2020.5</th>\n",
       "      <th>2020.6</th>\n",
       "      <th>2020.7</th>\n",
       "      <th>2020.8</th>\n",
       "      <th>2020.9</th>\n",
       "      <th>2020.10</th>\n",
       "      <th>2020.11</th>\n",
       "      <th>2020.12</th>\n",
       "    </tr>\n",
       "  </thead>\n",
       "  <tbody>\n",
       "    <tr>\n",
       "      <th>0</th>\n",
       "      <td>16,787</td>\n",
       "      <td>5,144</td>\n",
       "      <td>3,005</td>\n",
       "      <td>4,384</td>\n",
       "      <td>6,676</td>\n",
       "      <td>6,607</td>\n",
       "      <td>9,579</td>\n",
       "      <td>9,483</td>\n",
       "      <td>7,373</td>\n",
       "      <td>8,091</td>\n",
       "      <td>5,543</td>\n",
       "      <td>5,777</td>\n",
       "    </tr>\n",
       "  </tbody>\n",
       "</table>\n",
       "</div>"
      ],
      "text/plain": [
       "   2020.1 2020.2 2020.3 2020.4 2020.5 2020.6 2020.7 2020.8 2020.9 2020.10  \\\n",
       "0  16,787  5,144  3,005  4,384  6,676  6,607  9,579  9,483  7,373   8,091   \n",
       "\n",
       "  2020.11 2020.12  \n",
       "0   5,543   5,777  "
      ]
     },
     "execution_count": 22,
     "metadata": {},
     "output_type": "execute_result"
    }
   ],
   "source": [
    "# 열의 이름들을 재지정하기(2020.1 ~ 2020.12)\n",
    "\n",
    "month = []    # 열의 이름들을 만들어서 리스트에 담기\n",
    "for i in range(12):\n",
    "    month.append('2020.' + str(i+1))\n",
    "\n",
    "K_tour.columns = month\n",
    "K_tour"
   ]
  },
  {
   "cell_type": "code",
   "execution_count": 23,
   "id": "87d607bf",
   "metadata": {},
   "outputs": [
    {
     "data": {
      "text/html": [
       "<div>\n",
       "<style scoped>\n",
       "    .dataframe tbody tr th:only-of-type {\n",
       "        vertical-align: middle;\n",
       "    }\n",
       "\n",
       "    .dataframe tbody tr th {\n",
       "        vertical-align: top;\n",
       "    }\n",
       "\n",
       "    .dataframe thead th {\n",
       "        text-align: right;\n",
       "    }\n",
       "</style>\n",
       "<table border=\"1\" class=\"dataframe\">\n",
       "  <thead>\n",
       "    <tr style=\"text-align: right;\">\n",
       "      <th></th>\n",
       "      <th>2020.1</th>\n",
       "      <th>2020.2</th>\n",
       "      <th>2020.3</th>\n",
       "      <th>2020.4</th>\n",
       "      <th>2020.5</th>\n",
       "      <th>2020.6</th>\n",
       "      <th>2020.7</th>\n",
       "      <th>2020.8</th>\n",
       "      <th>2020.9</th>\n",
       "      <th>2020.10</th>\n",
       "      <th>2020.11</th>\n",
       "      <th>2020.12</th>\n",
       "    </tr>\n",
       "  </thead>\n",
       "  <tbody>\n",
       "    <tr>\n",
       "      <th>여행객수</th>\n",
       "      <td>16787</td>\n",
       "      <td>5144</td>\n",
       "      <td>3005</td>\n",
       "      <td>4384</td>\n",
       "      <td>6676</td>\n",
       "      <td>6607</td>\n",
       "      <td>9579</td>\n",
       "      <td>9483</td>\n",
       "      <td>7373</td>\n",
       "      <td>8091</td>\n",
       "      <td>5543</td>\n",
       "      <td>5777</td>\n",
       "    </tr>\n",
       "  </tbody>\n",
       "</table>\n",
       "</div>"
      ],
      "text/plain": [
       "      2020.1  2020.2  2020.3  2020.4  2020.5  2020.6  2020.7  2020.8  2020.9  \\\n",
       "여행객수   16787    5144    3005    4384    6676    6607    9579    9483    7373   \n",
       "\n",
       "      2020.10  2020.11  2020.12  \n",
       "여행객수     8091     5543     5777  "
      ]
     },
     "execution_count": 23,
     "metadata": {},
     "output_type": "execute_result"
    }
   ],
   "source": [
    "# 인덱스 이름 지정하고, Value 숫자화 하기(to_nuemeric)\n",
    "\n",
    "K_tour.index = ['여행객수']\n",
    "\n",
    "for col in K_tour.columns:\n",
    "    K_tour[col] =  K_tour[col].str.replace(',','')\n",
    "    K_tour[col] = pd.to_numeric(K_tour[col])\n",
    "K_tour"
   ]
  },
  {
   "cell_type": "code",
   "execution_count": 24,
   "id": "15894238",
   "metadata": {},
   "outputs": [
    {
     "data": {
      "image/png": "[encoded data removed]",
      "text/plain": [
       "<Figure size 432x288 with 1 Axes>"
      ]
     },
     "metadata": {
      "needs_background": "light"
     },
     "output_type": "display_data"
    }
   ],
   "source": [
    "# 전치행렬해서 Matplotlib을 이용한 그래프 그리기\n",
    "\n",
    "K_tour.T.plot()\n",
    "plt.title('국내 숙박여행 횟수 추이')\n",
    "plt.xlabel('시간')\n",
    "plt.ylabel('여행횟수')\n",
    "plt.show()"
   ]
  },
  {
   "cell_type": "markdown",
   "id": "e46f0a1a",
   "metadata": {},
   "source": [
    "# 여객&영업이익, 화물&영업이익 상관관계 도출"
   ]
  },
  {
   "cell_type": "code",
   "execution_count": 25,
   "id": "fd8069cd",
   "metadata": {},
   "outputs": [],
   "source": [
    "# 여객, 화물, 영업이익의 Value를 Column끼리 합치기(Sum)\n",
    "\n",
    "sum_Passenger = Pas_Airline.sum(axis=1)\n",
    "sum_Freight = Freight_Airline.sum(axis=1)\n",
    "sum_Profit = Profit_Airline.sum(axis=1)"
   ]
  },
  {
   "cell_type": "code",
   "execution_count": 26,
   "id": "61529475",
   "metadata": {
    "scrolled": true
   },
   "outputs": [
    {
     "data": {
      "text/html": [
       "<div>\n",
       "<style scoped>\n",
       "    .dataframe tbody tr th:only-of-type {\n",
       "        vertical-align: middle;\n",
       "    }\n",
       "\n",
       "    .dataframe tbody tr th {\n",
       "        vertical-align: top;\n",
       "    }\n",
       "\n",
       "    .dataframe thead th {\n",
       "        text-align: right;\n",
       "    }\n",
       "</style>\n",
       "<table border=\"1\" class=\"dataframe\">\n",
       "  <thead>\n",
       "    <tr style=\"text-align: right;\">\n",
       "      <th></th>\n",
       "      <th>여객</th>\n",
       "      <th>화물</th>\n",
       "      <th>영업이익</th>\n",
       "    </tr>\n",
       "    <tr>\n",
       "      <th>항공사명</th>\n",
       "      <th></th>\n",
       "      <th></th>\n",
       "      <th></th>\n",
       "    </tr>\n",
       "  </thead>\n",
       "  <tbody>\n",
       "    <tr>\n",
       "      <th>대한항공(KAL)</th>\n",
       "      <td>10175124</td>\n",
       "      <td>2255148</td>\n",
       "      <td>210503</td>\n",
       "    </tr>\n",
       "    <tr>\n",
       "      <th>아시아나항공(AAR)</th>\n",
       "      <td>9072660</td>\n",
       "      <td>1137094</td>\n",
       "      <td>9313</td>\n",
       "    </tr>\n",
       "    <tr>\n",
       "      <th>제주항공(JJA)</th>\n",
       "      <td>8622183</td>\n",
       "      <td>42638</td>\n",
       "      <td>-423133</td>\n",
       "    </tr>\n",
       "    <tr>\n",
       "      <th>진에어(JNA)</th>\n",
       "      <td>7118058</td>\n",
       "      <td>43911</td>\n",
       "      <td>-244789</td>\n",
       "    </tr>\n",
       "    <tr>\n",
       "      <th>에어부산(ABL)</th>\n",
       "      <td>6038160</td>\n",
       "      <td>32359</td>\n",
       "      <td>-235912</td>\n",
       "    </tr>\n",
       "  </tbody>\n",
       "</table>\n",
       "</div>"
      ],
      "text/plain": [
       "                   여객       화물    영업이익\n",
       "항공사명                                  \n",
       "대한항공(KAL)    10175124  2255148  210503\n",
       "아시아나항공(AAR)   9072660  1137094    9313\n",
       "제주항공(JJA)     8622183    42638 -423133\n",
       "진에어(JNA)      7118058    43911 -244789\n",
       "에어부산(ABL)     6038160    32359 -235912"
      ]
     },
     "execution_count": 26,
     "metadata": {},
     "output_type": "execute_result"
    }
   ],
   "source": [
    "# 각 데이터를 하나의 데이터프레임으로 합치기\n",
    "\n",
    "data_result = pd.concat([sum_Passenger, sum_Freight, sum_Profit], axis=1)\n",
    "data_result.columns = ('여객', '화물', '영업이익')\n",
    "data_result"
   ]
  },
  {
   "cell_type": "code",
   "execution_count": 29,
   "id": "090ec6ac",
   "metadata": {},
   "outputs": [
    {
     "data": {
      "text/plain": [
       "array([[1.        , 0.63213673],\n",
       "       [0.63213673, 1.        ]])"
      ]
     },
     "execution_count": 29,
     "metadata": {},
     "output_type": "execute_result"
    }
   ],
   "source": [
    "# 여객수와 영업이익간의 상관관계 도출\n",
    "\n",
    "np.corrcoef(data_result['여객'], data_result['영업이익'])"
   ]
  },
  {
   "cell_type": "code",
   "execution_count": 30,
   "id": "41606901",
   "metadata": {},
   "outputs": [
    {
     "data": {
      "text/plain": [
       "array([[1.        , 0.94759444],\n",
       "       [0.94759444, 1.        ]])"
      ]
     },
     "execution_count": 30,
     "metadata": {},
     "output_type": "execute_result"
    }
   ],
   "source": [
    "# 화물량과 영업이익간의 상관관계 도출\n",
    "\n",
    "np.corrcoef(data_result['화물'], data_result['영업이익'])"
   ]
  },
  {
   "cell_type": "markdown",
   "id": "d8cfa4e0",
   "metadata": {},
   "source": [
    "# 화물&영업이익 선형플로팅"
   ]
  },
  {
   "cell_type": "code",
   "execution_count": 31,
   "id": "3cd041f1",
   "metadata": {
    "scrolled": true
   },
   "outputs": [
    {
     "data": {
      "image/png": "[encoded data removed]",
      "text/plain": [
       "<Figure size 432x288 with 1 Axes>"
      ]
     },
     "metadata": {
      "needs_background": "light"
     },
     "output_type": "display_data"
    }
   ],
   "source": [
    "# 화물량과 영업이익간의 산점도 그리기\n",
    "\n",
    "plt.scatter(data_result['화물'], data_result['영업이익'], s=50)\n",
    "plt.xlabel('화물')\n",
    "plt.ylabel('영업이익')\n",
    "\n",
    "# 각 점 옆에 index 표시하기\n",
    "for n in range(5):\n",
    "    plt.text(data_result['화물'][n]*1.02, data_result['영업이익'][n]*0.98,\n",
    "            data_result.index[n], fontsize=10)\n",
    "plt.grid()\n",
    "plt.show()"
   ]
  },
  {
   "cell_type": "code",
   "execution_count": 32,
   "id": "15588bae",
   "metadata": {},
   "outputs": [
    {
     "data": {
      "text/plain": [
       "[<matplotlib.lines.Line2D at 0x190b9643310>]"
      ]
     },
     "execution_count": 32,
     "metadata": {},
     "output_type": "execute_result"
    },
    {
     "data": {
      "image/png": "[encoded data removed]",
      "text/plain": [
       "<Figure size 432x288 with 1 Axes>"
      ]
     },
     "metadata": {
      "needs_background": "light"
     },
     "output_type": "display_data"
    }
   ],
   "source": [
    "# 각 점들에 대해 최소 제곱을 갖는 다항식 피팅\n",
    "\n",
    "fp1 = np.polyfit(data_result['화물'], data_result['영업이익'], 1)    # 1 -> 1차 다항식 계수 구하기\n",
    "f1 = np.poly1d(fp1)    # 위의 계수에 따른 1차 그래프 만들기\n",
    "fx = np.linspace(0, 3000000, 100)    # 그래프 x값 범위\n",
    "plt.plot(fx, f1(fx), ls='dashed', lw=3, color='g')"
   ]
  },
  {
   "cell_type": "code",
   "execution_count": 33,
   "id": "7050572b",
   "metadata": {},
   "outputs": [
    {
     "data": {
      "image/png": "[encoded data removed]",
      "text/plain": [
       "<Figure size 432x288 with 1 Axes>"
      ]
     },
     "metadata": {
      "needs_background": "light"
     },
     "output_type": "display_data"
    }
   ],
   "source": [
    "# 위의 두 그래프를 한 번에 나타내기\n",
    "\n",
    "plt.scatter(data_result['화물'], data_result['영업이익'], s=50)\n",
    "plt.xlabel('화물')\n",
    "plt.ylabel('영업이익')\n",
    "plt.plot(fx, f1(fx), ls='dashed', lw=3, color='g')\n",
    "\n",
    "for n in range(5):\n",
    "    plt.text(data_result['화물'][n]*1.02, data_result['영업이익'][n]*0.98,\n",
    "            data_result.index[n], fontsize=10)\n",
    "plt.grid()\n",
    "plt.show()"
   ]
  },
  {
   "cell_type": "code",
   "execution_count": null,
   "id": "ae5a321d",
   "metadata": {},
   "outputs": [],
   "source": []
  }
 ],
 "metadata": {
  "kernelspec": {
   "display_name": "Python 3",
   "language": "python",
   "name": "python3"
  },
  "language_info": {
   "codemirror_mode": {
    "name": "ipython",
    "version": 3
   },
   "file_extension": ".py",
   "mimetype": "text/x-python",
   "name": "python",
   "nbconvert_exporter": "python",
   "pygments_lexer": "ipython3",
   "version": "3.8.8"
  }
 },
 "nbformat": 4,
 "nbformat_minor": 5
}
